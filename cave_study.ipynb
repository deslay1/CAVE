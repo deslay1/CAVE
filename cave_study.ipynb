{
 "cells": [
  {
   "cell_type": "code",
   "execution_count": 1,
   "metadata": {},
   "outputs": [
    {
     "name": "stdout",
     "output_type": "stream",
     "text": [
      "Python 3.9.5\n"
     ]
    }
   ],
   "source": [
    "!python --version"
   ]
  },
  {
   "cell_type": "code",
   "execution_count": 2,
   "metadata": {},
   "outputs": [
    {
     "name": "stdout",
     "output_type": "stream",
     "text": [
      "runs-container dir: cave-output-postgres\n",
      "default : Configuration:\n",
      "  checkpoint_completion_target, Value: '0.9'\n",
      "  checkpoint_timeout, Value: '5'\n",
      "  effective_io_concurrency, Value: '200'\n",
      "  max_parallel_workers, Value: '4'\n",
      "  max_parallel_workers_per_gather, Value: '2'\n",
      "  max_wal_size, Value: '8'\n",
      "  max_worker_processes, Value: '4'\n",
      "  random_page_cost, Value: '1.1'\n",
      "  shared_buffers, Value: '4096'\n",
      "  work_mem, Value: '6990'\n",
      "\n",
      "incumbent: Configuration:\n",
      "  checkpoint_completion_target, Value: '0.9'\n",
      "  checkpoint_timeout, Value: '10'\n",
      "  effective_io_concurrency, Value: '1'\n",
      "  max_parallel_workers, Value: '8'\n",
      "  max_parallel_workers_per_gather, Value: '2'\n",
      "  max_wal_size, Value: '64'\n",
      "  max_worker_processes, Value: '4'\n",
      "  random_page_cost, Value: '2.0'\n",
      "  shared_buffers, Value: '5632'\n",
      "  work_mem, Value: '13312'\n",
      "\n",
      "feature_names : None\n",
      "combined runhistory : <smac.runhistory.runhistory.RunHistory object at 0x7f901719e1f0>\n",
      "combined runhistory : <smac.runhistory.runhistory.RunHistory object at 0x7f901719e1f0>\n",
      "EPM runhistory : <smac.runhistory.runhistory.RunHistory object at 0x7f901719e1f0>\n",
      "\n",
      "VALIDATION ON INSTANCES STARTED, do we have any instances?\n",
      "instances test: [None]\n",
      "instances train: [None]\n",
      "\n"
     ]
    }
   ],
   "source": [
    "from cave.cavefacade import CAVE\n",
    "\n",
    "# cave = CAVE(folders=[\"./rocksdb_results/full_space_rw10\", \"./rocksdb_results/full_space_rw50\", \"./rocksdb_results/full_space_rw90\"],\n",
    "#             output_dir=\"cave-output-rocksdb\",\n",
    "#             ta_exec_dir=[\"./rocksdb_results\"],\n",
    "#             show_jupyter=False,\n",
    "#             verbose_level=\"OFF\"\n",
    "#            )\n",
    "\n",
    "# RocksDB\n",
    "# cave = CAVE(folders=[\"./rocksdb_results/30D_rw10\"],\n",
    "#             output_dir=\"cave-output-rocksdb\",\n",
    "#             ta_exec_dir=[\"./rocksdb_results\"],\n",
    "#             show_jupyter=False,\n",
    "#             verbose_level=\"OFF\"\n",
    "#            )\n",
    "\n",
    "# PostgreSQL\n",
    "cave = CAVE(folders=[\"./postgres_results/postgres\"],\n",
    "            output_dir=\"cave-output-postgres\",\n",
    "            ta_exec_dir=[\"./postgres_results\"],\n",
    "            show_jupyter=False,\n",
    "            verbose_level=\"OFF\"\n",
    "           )\n",
    "\n",
    "# Branin\n",
    "# cave = CAVE(folders=[\"./branin_results/branin\"],\n",
    "#             output_dir=\"cave-output-branin\",\n",
    "#             ta_exec_dir=[\"./branin_results\"],\n",
    "#             show_jupyter=False,\n",
    "#             verbose_level=\"OFF\"\n",
    "#            )\n",
    "\n",
    "# Rosenbrock\n",
    "# cave = CAVE(folders=[\"./rosenbrock_results/rosenbrock\"],\n",
    "#             output_dir=\"cave-output-rosenbrock\",\n",
    "#             ta_exec_dir=[\"./rosenbrock_results\"],\n",
    "#             show_jupyter=False,\n",
    "#             verbose_level=\"OFF\"\n",
    "#            )"
   ]
  },
  {
   "cell_type": "code",
   "execution_count": 3,
   "metadata": {},
   "outputs": [
    {
     "name": "stdout",
     "output_type": "stream",
     "text": [
      "[<cave.reader.configurator_run.ConfiguratorRun object at 0x7f90171a3550>]\n",
      "default : Configuration:\n",
      "  checkpoint_completion_target, Value: '0.9'\n",
      "  checkpoint_timeout, Value: '5'\n",
      "  effective_io_concurrency, Value: '200'\n",
      "  max_parallel_workers, Value: '4'\n",
      "  max_parallel_workers_per_gather, Value: '2'\n",
      "  max_wal_size, Value: '8'\n",
      "  max_worker_processes, Value: '4'\n",
      "  random_page_cost, Value: '1.1'\n",
      "  shared_buffers, Value: '4096'\n",
      "  work_mem, Value: '6990'\n",
      "\n",
      "incumbent: Configuration:\n",
      "  checkpoint_completion_target, Value: '0.9'\n",
      "  checkpoint_timeout, Value: '10'\n",
      "  effective_io_concurrency, Value: '1'\n",
      "  max_parallel_workers, Value: '8'\n",
      "  max_parallel_workers_per_gather, Value: '2'\n",
      "  max_wal_size, Value: '64'\n",
      "  max_worker_processes, Value: '4'\n",
      "  random_page_cost, Value: '2.0'\n",
      "  shared_buffers, Value: '5632'\n",
      "  work_mem, Value: '13312'\n",
      "\n",
      "feature_names : None\n",
      "combined runhistory : <smac.runhistory.runhistory.RunHistory object at 0x7f90171a3070>\n",
      "combined runhistory : <smac.runhistory.runhistory.RunHistory object at 0x7f90171a3070>\n",
      "EPM runhistory : <smac.runhistory.runhistory.RunHistory object at 0x7f90171a3070>\n",
      "\n",
      "VALIDATION ON INSTANCES STARTED, do we have any instances?\n",
      "instances test: [None]\n",
      "instances train: [None]\n",
      "\n"
     ]
    },
    {
     "data": {
      "text/plain": [
       "<cave.analyzer.performance.compare_default_incumbent.CompareDefaultIncumbent at 0x7f9068283cd0>"
      ]
     },
     "execution_count": 3,
     "metadata": {},
     "output_type": "execute_result"
    }
   ],
   "source": [
    "cave.compare_default_incumbent()"
   ]
  },
  {
   "cell_type": "code",
   "execution_count": 4,
   "metadata": {},
   "outputs": [],
   "source": [
    "cave.feature_importance()"
   ]
  },
  {
   "cell_type": "code",
   "execution_count": 5,
   "metadata": {},
   "outputs": [
    {
     "name": "stdout",
     "output_type": "stream",
     "text": [
      "[<cave.reader.configurator_run.ConfiguratorRun object at 0x7f90171a3550>]\n",
      "base_paramter_importance line 26: keepFolders=True\n",
      "Output directory: cave-output-postgres/analysis_data/1907609364910049597\n"
     ]
    },
    {
     "data": {
      "text/plain": [
       "<cave.analyzer.parameter_importance.forward_selection.ForwardSelection at 0x7f9017199310>"
      ]
     },
     "execution_count": 5,
     "metadata": {},
     "output_type": "execute_result"
    }
   ],
   "source": [
    "cave.pimp_forward_selection()"
   ]
  },
  {
   "cell_type": "code",
   "execution_count": 6,
   "metadata": {},
   "outputs": [
    {
     "name": "stdout",
     "output_type": "stream",
     "text": [
      "[<cave.reader.configurator_run.ConfiguratorRun object at 0x7f90171a3550>]\n",
      "base_paramter_importance line 26: keepFolders=True\n",
      "Output directory: cave-output-postgres/analysis_data/1907609364910049597\n"
     ]
    },
    {
     "data": {
      "text/plain": [
       "<cave.analyzer.parameter_importance.ablation.Ablation at 0x7f90167b9e80>"
      ]
     },
     "execution_count": 6,
     "metadata": {},
     "output_type": "execute_result"
    }
   ],
   "source": [
    "cave.cave_ablation()"
   ]
  },
  {
   "cell_type": "code",
   "execution_count": 7,
   "metadata": {},
   "outputs": [
    {
     "name": "stdout",
     "output_type": "stream",
     "text": [
      "[<cave.reader.configurator_run.ConfiguratorRun object at 0x7f90171a3550>]\n",
      "base_paramter_importance line 26: keepFolders=True\n",
      "Output directory: cave-output-postgres/analysis_data/1907609364910049597\n"
     ]
    },
    {
     "name": "stderr",
     "output_type": "stream",
     "text": [
      "/home/ubuntu/anaconda3/envs/tuner/lib/python3.9/site-packages/fanova/visualizer.py:123: VisibleDeprecationWarning: Creating an ndarray from ragged nested sequences (which is a list-or-tuple of lists-or-tuples-or ndarrays with different lengths or shapes) is deprecated. If you meant to do this, you must specify 'dtype=object' when creating the ndarray.\n",
      "  grid_fanova = np.array(grid_fanova)\n",
      "/home/ubuntu/anaconda3/envs/tuner/lib/python3.9/site-packages/fanova/visualizer.py:123: VisibleDeprecationWarning: Creating an ndarray from ragged nested sequences (which is a list-or-tuple of lists-or-tuples-or ndarrays with different lengths or shapes) is deprecated. If you meant to do this, you must specify 'dtype=object' when creating the ndarray.\n",
      "  grid_fanova = np.array(grid_fanova)\n"
     ]
    },
    {
     "data": {
      "text/plain": [
       "<cave.analyzer.parameter_importance.fanova.Fanova at 0x7f90167b9dc0>"
      ]
     },
     "execution_count": 7,
     "metadata": {},
     "output_type": "execute_result"
    }
   ],
   "source": [
    "cave.cave_fanova()"
   ]
  },
  {
   "cell_type": "code",
   "execution_count": 8,
   "metadata": {},
   "outputs": [
    {
     "name": "stdout",
     "output_type": "stream",
     "text": [
      "[<cave.reader.configurator_run.ConfiguratorRun object at 0x7f90171a3550>]\n",
      "base_paramter_importance line 26: keepFolders=True\n",
      "Output directory: cave-output-postgres/analysis_data/1907609364910049597\n"
     ]
    },
    {
     "name": "stderr",
     "output_type": "stream",
     "text": [
      "/home/ubuntu/anaconda3/envs/tuner/lib/python3.9/site-packages/pimp/evaluator/local_parameter_importance.py:402: UserWarning: Attempted to set non-positive top ylim on a log-scaled axis.\n",
      "Invalid limit will be ignored.\n",
      "  ax1.set_ylim([min_y * 0.95, max_y])\n",
      "/home/ubuntu/anaconda3/envs/tuner/lib/python3.9/site-packages/pimp/evaluator/local_parameter_importance.py:402: UserWarning: Attempted to set non-positive top ylim on a log-scaled axis.\n",
      "Invalid limit will be ignored.\n",
      "  ax1.set_ylim([min_y * 0.95, max_y])\n",
      "/home/ubuntu/anaconda3/envs/tuner/lib/python3.9/site-packages/pimp/evaluator/local_parameter_importance.py:402: UserWarning: Attempted to set non-positive top ylim on a log-scaled axis.\n",
      "Invalid limit will be ignored.\n",
      "  ax1.set_ylim([min_y * 0.95, max_y])\n",
      "/home/ubuntu/anaconda3/envs/tuner/lib/python3.9/site-packages/pimp/evaluator/local_parameter_importance.py:402: UserWarning: Attempted to set non-positive top ylim on a log-scaled axis.\n",
      "Invalid limit will be ignored.\n",
      "  ax1.set_ylim([min_y * 0.95, max_y])\n",
      "/home/ubuntu/anaconda3/envs/tuner/lib/python3.9/site-packages/pimp/evaluator/local_parameter_importance.py:402: UserWarning: Attempted to set non-positive top ylim on a log-scaled axis.\n",
      "Invalid limit will be ignored.\n",
      "  ax1.set_ylim([min_y * 0.95, max_y])\n",
      "/home/ubuntu/anaconda3/envs/tuner/lib/python3.9/site-packages/pimp/evaluator/local_parameter_importance.py:402: UserWarning: Attempted to set non-positive top ylim on a log-scaled axis.\n",
      "Invalid limit will be ignored.\n",
      "  ax1.set_ylim([min_y * 0.95, max_y])\n",
      "/home/ubuntu/anaconda3/envs/tuner/lib/python3.9/site-packages/pimp/evaluator/local_parameter_importance.py:402: UserWarning: Attempted to set non-positive top ylim on a log-scaled axis.\n",
      "Invalid limit will be ignored.\n",
      "  ax1.set_ylim([min_y * 0.95, max_y])\n",
      "/home/ubuntu/anaconda3/envs/tuner/lib/python3.9/site-packages/pimp/evaluator/local_parameter_importance.py:402: UserWarning: Attempted to set non-positive top ylim on a log-scaled axis.\n",
      "Invalid limit will be ignored.\n",
      "  ax1.set_ylim([min_y * 0.95, max_y])\n",
      "ERROR:cave.cavefacade.CAVE:local variable 'p' referenced before assignment\n",
      "Traceback (most recent call last):\n",
      "  File \"/home/ubuntu/CAVE/cave/cavefacade.py\", line 55, in wrap\n",
      "    analyzer = f(self, *args, **kw)\n",
      "  File \"/home/ubuntu/CAVE/cave/cavefacade.py\", line 341, in local_parameter_importance\n",
      "    return LocalParameterImportance(self.runscontainer)\n",
      "  File \"/home/ubuntu/CAVE/cave/analyzer/parameter_importance/local_parameter_importance.py\", line 22, in __init__\n",
      "    self.parameter_importance(\"lpi\")\n",
      "  File \"/home/ubuntu/CAVE/cave/analyzer/parameter_importance/base_parameter_importance.py\", line 64, in parameter_importance\n",
      "    'bokeh': components(run.pimp.evaluator.plot_bokeh(show_plot=False))\n",
      "  File \"/home/ubuntu/anaconda3/envs/tuner/lib/python3.9/site-packages/pimp/evaluator/local_parameter_importance.py\", line 450, in plot_bokeh\n",
      "    plots.append(Panel(child=Row(p), title=param))\n",
      "UnboundLocalError: local variable 'p' referenced before assignment\n"
     ]
    },
    {
     "ename": "UnboundLocalError",
     "evalue": "local variable 'p' referenced before assignment",
     "output_type": "error",
     "traceback": [
      "\u001b[0;31m---------------------------------------------------------------------------\u001b[0m",
      "\u001b[0;31mUnboundLocalError\u001b[0m                         Traceback (most recent call last)",
      "\u001b[0;32m/tmp/ipykernel_222378/2642066545.py\u001b[0m in \u001b[0;36m<module>\u001b[0;34m\u001b[0m\n\u001b[0;32m----> 1\u001b[0;31m \u001b[0mcave\u001b[0m\u001b[0;34m.\u001b[0m\u001b[0mlocal_parameter_importance\u001b[0m\u001b[0;34m(\u001b[0m\u001b[0;34m)\u001b[0m\u001b[0;34m\u001b[0m\u001b[0;34m\u001b[0m\u001b[0m\n\u001b[0m",
      "\u001b[0;32m~/CAVE/cave/cavefacade.py\u001b[0m in \u001b[0;36mwrap\u001b[0;34m(self, d, *args, **kw)\u001b[0m\n\u001b[1;32m     53\u001b[0m         \u001b[0mself\u001b[0m\u001b[0;34m.\u001b[0m\u001b[0mlogger\u001b[0m\u001b[0;34m.\u001b[0m\u001b[0mdebug\u001b[0m\u001b[0;34m(\u001b[0m\u001b[0;34m\"Args: %s, Kwargs: %s\"\u001b[0m\u001b[0;34m,\u001b[0m \u001b[0mstr\u001b[0m\u001b[0;34m(\u001b[0m\u001b[0margs\u001b[0m\u001b[0;34m)\u001b[0m\u001b[0;34m,\u001b[0m \u001b[0mstr\u001b[0m\u001b[0;34m(\u001b[0m\u001b[0mkw\u001b[0m\u001b[0;34m)\u001b[0m\u001b[0;34m)\u001b[0m\u001b[0;34m\u001b[0m\u001b[0;34m\u001b[0m\u001b[0m\n\u001b[1;32m     54\u001b[0m         \u001b[0;32mtry\u001b[0m\u001b[0;34m:\u001b[0m\u001b[0;34m\u001b[0m\u001b[0;34m\u001b[0m\u001b[0m\n\u001b[0;32m---> 55\u001b[0;31m             \u001b[0manalyzer\u001b[0m \u001b[0;34m=\u001b[0m \u001b[0mf\u001b[0m\u001b[0;34m(\u001b[0m\u001b[0mself\u001b[0m\u001b[0;34m,\u001b[0m \u001b[0;34m*\u001b[0m\u001b[0margs\u001b[0m\u001b[0;34m,\u001b[0m \u001b[0;34m**\u001b[0m\u001b[0mkw\u001b[0m\u001b[0;34m)\u001b[0m\u001b[0;34m\u001b[0m\u001b[0;34m\u001b[0m\u001b[0m\n\u001b[0m\u001b[1;32m     56\u001b[0m         \u001b[0;32mexcept\u001b[0m \u001b[0mDeactivated\u001b[0m \u001b[0;32mas\u001b[0m \u001b[0merr\u001b[0m\u001b[0;34m:\u001b[0m\u001b[0;34m\u001b[0m\u001b[0;34m\u001b[0m\u001b[0m\n\u001b[1;32m     57\u001b[0m             \u001b[0mself\u001b[0m\u001b[0;34m.\u001b[0m\u001b[0mlogger\u001b[0m\u001b[0;34m.\u001b[0m\u001b[0minfo\u001b[0m\u001b[0;34m(\u001b[0m\u001b[0merr\u001b[0m\u001b[0;34m)\u001b[0m\u001b[0;34m\u001b[0m\u001b[0;34m\u001b[0m\u001b[0m\n",
      "\u001b[0;32m~/CAVE/cave/cavefacade.py\u001b[0m in \u001b[0;36mlocal_parameter_importance\u001b[0;34m(self)\u001b[0m\n\u001b[1;32m    339\u001b[0m     \u001b[0;34m@\u001b[0m\u001b[0m_analyzer_type\u001b[0m\u001b[0;34m\u001b[0m\u001b[0;34m\u001b[0m\u001b[0m\n\u001b[1;32m    340\u001b[0m     \u001b[0;32mdef\u001b[0m \u001b[0mlocal_parameter_importance\u001b[0m\u001b[0;34m(\u001b[0m\u001b[0mself\u001b[0m\u001b[0;34m)\u001b[0m\u001b[0;34m:\u001b[0m\u001b[0;34m\u001b[0m\u001b[0;34m\u001b[0m\u001b[0m\n\u001b[0;32m--> 341\u001b[0;31m         \u001b[0;32mreturn\u001b[0m \u001b[0mLocalParameterImportance\u001b[0m\u001b[0;34m(\u001b[0m\u001b[0mself\u001b[0m\u001b[0;34m.\u001b[0m\u001b[0mrunscontainer\u001b[0m\u001b[0;34m)\u001b[0m\u001b[0;34m\u001b[0m\u001b[0;34m\u001b[0m\u001b[0m\n\u001b[0m\u001b[1;32m    342\u001b[0m \u001b[0;34m\u001b[0m\u001b[0m\n\u001b[1;32m    343\u001b[0m     \u001b[0;34m@\u001b[0m\u001b[0m_analyzer_type\u001b[0m\u001b[0;34m\u001b[0m\u001b[0;34m\u001b[0m\u001b[0m\n",
      "\u001b[0;32m~/CAVE/cave/analyzer/parameter_importance/local_parameter_importance.py\u001b[0m in \u001b[0;36m__init__\u001b[0;34m(self, runscontainer, marginal_threshold)\u001b[0m\n\u001b[1;32m     20\u001b[0m \u001b[0;34m\u001b[0m\u001b[0m\n\u001b[1;32m     21\u001b[0m         \u001b[0msuper\u001b[0m\u001b[0;34m(\u001b[0m\u001b[0;34m)\u001b[0m\u001b[0;34m.\u001b[0m\u001b[0m__init__\u001b[0m\u001b[0;34m(\u001b[0m\u001b[0mrunscontainer\u001b[0m\u001b[0;34m)\u001b[0m\u001b[0;34m\u001b[0m\u001b[0;34m\u001b[0m\u001b[0m\n\u001b[0;32m---> 22\u001b[0;31m         \u001b[0mself\u001b[0m\u001b[0;34m.\u001b[0m\u001b[0mparameter_importance\u001b[0m\u001b[0;34m(\u001b[0m\u001b[0;34m\"lpi\"\u001b[0m\u001b[0;34m)\u001b[0m\u001b[0;34m\u001b[0m\u001b[0;34m\u001b[0m\u001b[0m\n\u001b[0m\u001b[1;32m     23\u001b[0m \u001b[0;34m\u001b[0m\u001b[0m\n\u001b[1;32m     24\u001b[0m     \u001b[0;32mdef\u001b[0m \u001b[0mget_name\u001b[0m\u001b[0;34m(\u001b[0m\u001b[0mself\u001b[0m\u001b[0;34m)\u001b[0m\u001b[0;34m:\u001b[0m\u001b[0;34m\u001b[0m\u001b[0;34m\u001b[0m\u001b[0m\n",
      "\u001b[0;32m~/CAVE/cave/analyzer/parameter_importance/base_parameter_importance.py\u001b[0m in \u001b[0;36mparameter_importance\u001b[0;34m(self, modus)\u001b[0m\n\u001b[1;32m     62\u001b[0m                 \u001b[0;32mtry\u001b[0m\u001b[0;34m:\u001b[0m\u001b[0;34m\u001b[0m\u001b[0;34m\u001b[0m\u001b[0m\n\u001b[1;32m     63\u001b[0m                     result[budget]['Interactive Plots'] = {\n\u001b[0;32m---> 64\u001b[0;31m                         \u001b[0;34m'bokeh'\u001b[0m\u001b[0;34m:\u001b[0m \u001b[0mcomponents\u001b[0m\u001b[0;34m(\u001b[0m\u001b[0mrun\u001b[0m\u001b[0;34m.\u001b[0m\u001b[0mpimp\u001b[0m\u001b[0;34m.\u001b[0m\u001b[0mevaluator\u001b[0m\u001b[0;34m.\u001b[0m\u001b[0mplot_bokeh\u001b[0m\u001b[0;34m(\u001b[0m\u001b[0mshow_plot\u001b[0m\u001b[0;34m=\u001b[0m\u001b[0;32mFalse\u001b[0m\u001b[0;34m)\u001b[0m\u001b[0;34m)\u001b[0m\u001b[0;34m\u001b[0m\u001b[0;34m\u001b[0m\u001b[0m\n\u001b[0m\u001b[1;32m     65\u001b[0m                     }\n\u001b[1;32m     66\u001b[0m                 \u001b[0;32mexcept\u001b[0m \u001b[0mAttributeError\u001b[0m \u001b[0;32mas\u001b[0m \u001b[0merr\u001b[0m\u001b[0;34m:\u001b[0m\u001b[0;34m\u001b[0m\u001b[0;34m\u001b[0m\u001b[0m\n",
      "\u001b[0;32m~/anaconda3/envs/tuner/lib/python3.9/site-packages/pimp/evaluator/local_parameter_importance.py\u001b[0m in \u001b[0;36mplot_bokeh\u001b[0;34m(self, plot_name, show_plot)\u001b[0m\n\u001b[1;32m    448\u001b[0m \u001b[0;34m\u001b[0m\u001b[0m\n\u001b[1;32m    449\u001b[0m             \u001b[0;31m# Add as Panel so it can be easily put into Tabs\u001b[0m\u001b[0;34m\u001b[0m\u001b[0;34m\u001b[0m\u001b[0;34m\u001b[0m\u001b[0m\n\u001b[0;32m--> 450\u001b[0;31m             \u001b[0mplots\u001b[0m\u001b[0;34m.\u001b[0m\u001b[0mappend\u001b[0m\u001b[0;34m(\u001b[0m\u001b[0mPanel\u001b[0m\u001b[0;34m(\u001b[0m\u001b[0mchild\u001b[0m\u001b[0;34m=\u001b[0m\u001b[0mRow\u001b[0m\u001b[0;34m(\u001b[0m\u001b[0mp\u001b[0m\u001b[0;34m)\u001b[0m\u001b[0;34m,\u001b[0m \u001b[0mtitle\u001b[0m\u001b[0;34m=\u001b[0m\u001b[0mparam\u001b[0m\u001b[0;34m)\u001b[0m\u001b[0;34m)\u001b[0m\u001b[0;34m\u001b[0m\u001b[0;34m\u001b[0m\u001b[0m\n\u001b[0m\u001b[1;32m    451\u001b[0m \u001b[0;34m\u001b[0m\u001b[0m\n\u001b[1;32m    452\u001b[0m         \u001b[0;31m# Putting the Tabs together\u001b[0m\u001b[0;34m\u001b[0m\u001b[0;34m\u001b[0m\u001b[0;34m\u001b[0m\u001b[0m\n",
      "\u001b[0;31mUnboundLocalError\u001b[0m: local variable 'p' referenced before assignment"
     ]
    }
   ],
   "source": [
    "cave.local_parameter_importance()"
   ]
  },
  {
   "cell_type": "code",
   "execution_count": null,
   "metadata": {},
   "outputs": [
    {
     "data": {
      "text/plain": [
       "<cave.analyzer.parameter_importance.pimp_comparison_table.PimpComparisonTable at 0x7f8efcdf4ca0>"
      ]
     },
     "execution_count": 27,
     "metadata": {},
     "output_type": "execute_result"
    }
   ],
   "source": [
    "cave.pimp_comparison_table()"
   ]
  }
 ],
 "metadata": {
  "interpreter": {
   "hash": "f41a34bc23193451a6caf07ddf794ceac3c1300afae28ff961195e6b5358c7d5"
  },
  "kernelspec": {
   "display_name": "Python 3 (ipykernel)",
   "language": "python",
   "name": "python3"
  },
  "language_info": {
   "codemirror_mode": {
    "name": "ipython",
    "version": 3
   },
   "file_extension": ".py",
   "mimetype": "text/x-python",
   "name": "python",
   "nbconvert_exporter": "python",
   "pygments_lexer": "ipython3",
   "version": "3.9.5"
  }
 },
 "nbformat": 4,
 "nbformat_minor": 4
}

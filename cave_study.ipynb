{
 "cells": [
  {
   "cell_type": "code",
   "execution_count": 1,
   "metadata": {},
   "outputs": [
    {
     "name": "stdout",
     "output_type": "stream",
     "text": [
      "Python 3.9.7\n"
     ]
    }
   ],
   "source": [
    "!python --version"
   ]
  },
  {
   "cell_type": "code",
   "execution_count": 2,
   "metadata": {},
   "outputs": [
    {
     "name": "stdout",
     "output_type": "stream",
     "text": [
      "runs-container dir: cave-output-rosenbrock-final\n",
      "default : Configuration:\n",
      "  x0, Value: 30.0\n",
      "  x1, Value: -27.776906073\n",
      "\n",
      "incumbent: Configuration:\n",
      "  x0, Value: -1.551120401130035\n",
      "  x1, Value: 2.127103915462904\n",
      "\n",
      "feature_names : None\n",
      "combined runhistory : <smac.runhistory.runhistory.RunHistory object at 0x7f0a1ede2220>\n",
      "combined runhistory : <smac.runhistory.runhistory.RunHistory object at 0x7f0a1ede2220>\n",
      "EPM runhistory : <smac.runhistory.runhistory.RunHistory object at 0x7f0a1ede2220>\n",
      "\n",
      "RANDOM FOREST\n",
      "\n",
      "\n",
      "VALIDATION ON INSTANCES STARTED, do we have any instances?\n",
      "instances test: [None]\n",
      "instances train: [None]\n",
      "\n"
     ]
    }
   ],
   "source": [
    "from cave.cavefacade import CAVE\n",
    "\n",
    "# cave = CAVE(folders=[\"./rocksdb_results/full_space_rw10\", \"./rocksdb_results/full_space_rw50\", \"./rocksdb_results/full_space_rw90\"],\n",
    "#             output_dir=\"cave-output-rocksdb\",\n",
    "#             ta_exec_dir=[\"./rocksdb_results\"],\n",
    "#             show_jupyter=False,\n",
    "#             verbose_level=\"OFF\"\n",
    "#            )\n",
    "\n",
    "# RocksDB\n",
    "# cave = CAVE(folders=[\"./rocksdb_results/30D_rw10\"],\n",
    "#             output_dir=\"cave-output-rocksdb\",\n",
    "#             ta_exec_dir=[\"./rocksdb_results\"],\n",
    "#             show_jupyter=False,\n",
    "#             verbose_level=\"OFF\"\n",
    "#            )\n",
    "\n",
    "# PostgreSQL\n",
    "# cave = CAVE(folders=[\"./postgres_results/postgres\"],\n",
    "#             output_dir=\"cave-output-postgres\",\n",
    "#             ta_exec_dir=[\"./postgres_results\"],\n",
    "#             show_jupyter=False,\n",
    "#             verbose_level=\"OFF\"\n",
    "#            )\n",
    "\n",
    "# PostgreSQL\n",
    "# cave = CAVE(folders=[\"./postgres_results/30D_tpcc\"],\n",
    "#             output_dir=\"cave-output-postgres\",\n",
    "#             ta_exec_dir=[\"./postgres_results\"],\n",
    "#             show_jupyter=False,\n",
    "#             verbose_level=\"OFF\"\n",
    "#            )\n",
    "\n",
    "# cave = CAVE(folders=[\"./postgres_results/30D_wikipedia\"],\n",
    "#             output_dir=\"cave-output-postgres\",\n",
    "#             ta_exec_dir=[\"./postgres_results\"],\n",
    "#             show_jupyter=False,\n",
    "#             verbose_level=\"OFF\"\n",
    "#            )\n",
    "\n",
    "\n",
    "# Branin\n",
    "# cave = CAVE(folders=[\"./branin_results/branin_final\"],\n",
    "#             output_dir=\"cave-output-branin-final\",\n",
    "#             ta_exec_dir=[\"./branin_results\"],\n",
    "#             show_jupyter=False,\n",
    "#             verbose_level=\"OFF\"\n",
    "#            )\n",
    "\n",
    "# Rosenbrock\n",
    "cave = CAVE(folders=[\"./rosenbrock_results/rosenbrock_final\"],\n",
    "            output_dir=\"cave-output-rosenbrock-final\",\n",
    "            ta_exec_dir=[\"./rosenbrock_results\"],\n",
    "            show_jupyter=False,\n",
    "            verbose_level=\"OFF\"\n",
    "           )"
   ]
  },
  {
   "cell_type": "code",
   "execution_count": 3,
   "metadata": {},
   "outputs": [
    {
     "name": "stdout",
     "output_type": "stream",
     "text": [
      "[<cave.reader.configurator_run.ConfiguratorRun object at 0x7f0a1ede22b0>]\n",
      "default : Configuration:\n",
      "  x0, Value: 30.0\n",
      "  x1, Value: -27.776906073\n",
      "\n",
      "incumbent: Configuration:\n",
      "  x0, Value: -1.551120401130035\n",
      "  x1, Value: 2.127103915462904\n",
      "\n",
      "feature_names : None\n",
      "combined runhistory : <smac.runhistory.runhistory.RunHistory object at 0x7f0a1ede77f0>\n",
      "combined runhistory : <smac.runhistory.runhistory.RunHistory object at 0x7f0a1ede77f0>\n",
      "EPM runhistory : <smac.runhistory.runhistory.RunHistory object at 0x7f0a1ede77f0>\n",
      "\n",
      "RANDOM FOREST\n",
      "\n",
      "\n",
      "VALIDATION ON INSTANCES STARTED, do we have any instances?\n",
      "instances test: [None]\n",
      "instances train: [None]\n",
      "\n"
     ]
    },
    {
     "data": {
      "text/plain": [
       "<cave.analyzer.performance.compare_default_incumbent.CompareDefaultIncumbent at 0x7f0a5c576df0>"
      ]
     },
     "execution_count": 3,
     "metadata": {},
     "output_type": "execute_result"
    }
   ],
   "source": [
    "cave.compare_default_incumbent()"
   ]
  },
  {
   "cell_type": "code",
   "execution_count": 4,
   "metadata": {},
   "outputs": [],
   "source": [
    "cave.feature_importance()"
   ]
  },
  {
   "cell_type": "code",
   "execution_count": 5,
   "metadata": {},
   "outputs": [
    {
     "name": "stdout",
     "output_type": "stream",
     "text": [
      "[<cave.reader.configurator_run.ConfiguratorRun object at 0x7f0a1ede22b0>]\n",
      "base_paramter_importance line 26: keepFolders=True\n",
      "Output directory: cave-output-rosenbrock-final/analysis_data/-4618466690099480037\n"
     ]
    },
    {
     "data": {
      "text/plain": [
       "<cave.analyzer.parameter_importance.forward_selection.ForwardSelection at 0x7f0a5f028910>"
      ]
     },
     "execution_count": 5,
     "metadata": {},
     "output_type": "execute_result"
    }
   ],
   "source": [
    "cave.pimp_forward_selection()"
   ]
  },
  {
   "cell_type": "code",
   "execution_count": 6,
   "metadata": {},
   "outputs": [
    {
     "name": "stdout",
     "output_type": "stream",
     "text": [
      "[<cave.reader.configurator_run.ConfiguratorRun object at 0x7f0a1ede22b0>]\n",
      "base_paramter_importance line 26: keepFolders=True\n",
      "Output directory: cave-output-rosenbrock-final/analysis_data/-4618466690099480037\n"
     ]
    },
    {
     "data": {
      "text/plain": [
       "<cave.analyzer.parameter_importance.ablation.Ablation at 0x7f0a1eea4a00>"
      ]
     },
     "execution_count": 6,
     "metadata": {},
     "output_type": "execute_result"
    }
   ],
   "source": [
    "cave.cave_ablation()"
   ]
  },
  {
   "cell_type": "code",
   "execution_count": 7,
   "metadata": {},
   "outputs": [
    {
     "name": "stdout",
     "output_type": "stream",
     "text": [
      "[<cave.reader.configurator_run.ConfiguratorRun object at 0x7f0a1ede22b0>]\n",
      "base_paramter_importance line 26: keepFolders=True\n",
      "Output directory: cave-output-rosenbrock-final/analysis_data/-4618466690099480037\n"
     ]
    },
    {
     "name": "stderr",
     "output_type": "stream",
     "text": [
      "/home/osama/anaconda3/envs/cave/lib/python3.9/site-packages/fanova/visualizer.py:175: MatplotlibDeprecationWarning: Axes3D(fig) adding itself to the figure is deprecated since 3.4. Pass the keyword argument auto_add_to_figure=False and use fig.add_axes(ax) to suppress this warning. The default value of auto_add_to_figure will change to False in mpl3.5 and True values will no longer work in 3.6.  This is consistent with other Axes classes.\n",
      "  ax = Axes3D(fig)\n"
     ]
    },
    {
     "data": {
      "text/plain": [
       "<cave.analyzer.parameter_importance.fanova.Fanova at 0x7f0a1ef67f70>"
      ]
     },
     "execution_count": 7,
     "metadata": {},
     "output_type": "execute_result"
    }
   ],
   "source": [
    "cave.cave_fanova()"
   ]
  },
  {
   "cell_type": "code",
   "execution_count": 8,
   "metadata": {},
   "outputs": [
    {
     "name": "stdout",
     "output_type": "stream",
     "text": [
      "[<cave.reader.configurator_run.ConfiguratorRun object at 0x7f0a1ede22b0>]\n",
      "base_paramter_importance line 26: keepFolders=True\n",
      "Output directory: cave-output-rosenbrock-final/analysis_data/-4618466690099480037\n"
     ]
    },
    {
     "data": {
      "text/plain": [
       "<cave.analyzer.parameter_importance.local_parameter_importance.LocalParameterImportance at 0x7f0a30147190>"
      ]
     },
     "execution_count": 8,
     "metadata": {},
     "output_type": "execute_result"
    }
   ],
   "source": [
    "cave.local_parameter_importance()"
   ]
  },
  {
   "cell_type": "code",
   "execution_count": 9,
   "metadata": {},
   "outputs": [
    {
     "data": {
      "text/plain": [
       "<cave.analyzer.parameter_importance.pimp_comparison_table.PimpComparisonTable at 0x7f0a1eee95e0>"
      ]
     },
     "execution_count": 9,
     "metadata": {},
     "output_type": "execute_result"
    }
   ],
   "source": [
    "cave.pimp_comparison_table()"
   ]
  }
 ],
 "metadata": {
  "interpreter": {
   "hash": "f41a34bc23193451a6caf07ddf794ceac3c1300afae28ff961195e6b5358c7d5"
  },
  "kernelspec": {
   "display_name": "Python 3 (ipykernel)",
   "language": "python",
   "name": "python3"
  },
  "language_info": {
   "codemirror_mode": {
    "name": "ipython",
    "version": 3
   },
   "file_extension": ".py",
   "mimetype": "text/x-python",
   "name": "python",
   "nbconvert_exporter": "python",
   "pygments_lexer": "ipython3",
   "version": "3.9.7"
  }
 },
 "nbformat": 4,
 "nbformat_minor": 4
}

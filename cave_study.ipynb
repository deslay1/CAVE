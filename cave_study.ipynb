{
 "cells": [
  {
   "cell_type": "code",
   "execution_count": 1,
   "metadata": {},
   "outputs": [
    {
     "name": "stdout",
     "output_type": "stream",
     "text": [
      "Python 3.7.11\n"
     ]
    }
   ],
   "source": [
    "!python --version"
   ]
  },
  {
   "cell_type": "code",
   "execution_count": 2,
   "metadata": {},
   "outputs": [
    {
     "name": "stdout",
     "output_type": "stream",
     "text": [
      "runs-container dir: cave-output-branin\n"
     ]
    }
   ],
   "source": [
    "from cave.cavefacade import CAVE\n",
    "\n",
    "# cave = CAVE(folders=[\"./rocksdb_results/full_space_mixgraph\", \"./rocksdb_results/full_space_rw10\", \"./rocksdb_results/full_space_rw50\", \"./rocksdb_results/full_space_rw90\"],\n",
    "#             output_dir=\"cave-test\",\n",
    "#             ta_exec_dir=[\"./rocksdb_results\"],\n",
    "#             show_jupyter=False,\n",
    "#             verbose_level=\"OFF\"\n",
    "#            )\n",
    "\n",
    "# RocksDB\n",
    "# cave = CAVE(folders=[\"./rocksdb_results/full_space_rw10\"],\n",
    "#             output_dir=\"cave-test\",\n",
    "#             ta_exec_dir=[\"./rocksdb_results\"],\n",
    "#             show_jupyter=False,\n",
    "#             verbose_level=\"OFF\"\n",
    "#            )\n",
    "\n",
    "# Branin\n",
    "cave = CAVE(folders=[\"./branin_results/bran\"],\n",
    "            output_dir=\"cave-output-branin\",\n",
    "            ta_exec_dir=[\"./branin_results\"],\n",
    "            show_jupyter=False,\n",
    "            verbose_level=\"OFF\"\n",
    "           )"
   ]
  },
  {
   "cell_type": "code",
   "execution_count": 7,
   "metadata": {},
   "outputs": [
    {
     "name": "stdout",
     "output_type": "stream",
     "text": [
      "[<cave.reader.configurator_run.ConfiguratorRun object at 0x7f4fca803c50>]\n"
     ]
    },
    {
     "data": {
      "text/plain": [
       "<cave.analyzer.performance.compare_default_incumbent.CompareDefaultIncumbent at 0x7f4fca789310>"
      ]
     },
     "execution_count": 7,
     "metadata": {},
     "output_type": "execute_result"
    }
   ],
   "source": [
    "cave.compare_default_incumbent()"
   ]
  },
  {
   "cell_type": "code",
   "execution_count": 8,
   "metadata": {},
   "outputs": [],
   "source": [
    "cave.feature_importance()"
   ]
  },
  {
   "cell_type": "code",
   "execution_count": 3,
   "metadata": {},
   "outputs": [
    {
     "name": "stdout",
     "output_type": "stream",
     "text": [
      "[<cave.reader.configurator_run.ConfiguratorRun object at 0x7f4fca803c50>]\n",
      "odict_values(['budget 0'])\n",
      "budget 0\n",
      "<cave.reader.configurator_run.ConfiguratorRun object at 0x7f4fca803c50>\n",
      "cave-output-branin/analysis_data/-6381047915538864445\n"
     ]
    },
    {
     "name": "stderr",
     "output_type": "stream",
     "text": [
      "/home/os5222el/anaconda3/envs/cave/lib/python3.7/site-packages/PyImp-1.1.5-py3.7.egg/pimp/evaluator/forward_selection.py:186: UserWarning: Attempting to set identical left == right == 0 results in singular transformations; automatically expanding.\n",
      "  ax.set_xlim(0, max_to_plot - 1)\n"
     ]
    },
    {
     "data": {
      "text/plain": [
       "<cave.analyzer.parameter_importance.forward_selection.ForwardSelection at 0x7f4fce4a5890>"
      ]
     },
     "execution_count": 3,
     "metadata": {},
     "output_type": "execute_result"
    }
   ],
   "source": [
    "cave.pimp_forward_selection()"
   ]
  },
  {
   "cell_type": "code",
   "execution_count": 4,
   "metadata": {},
   "outputs": [
    {
     "name": "stdout",
     "output_type": "stream",
     "text": [
      "[<cave.reader.configurator_run.ConfiguratorRun object at 0x7f4fca803c50>]\n",
      "odict_values(['budget 0'])\n",
      "budget 0\n",
      "<cave.reader.configurator_run.ConfiguratorRun object at 0x7f4fca803c50>\n",
      "cave-output-branin/analysis_data/-6381047915538864445\n"
     ]
    },
    {
     "data": {
      "text/plain": [
       "<cave.analyzer.parameter_importance.ablation.Ablation at 0x7f4fcdfdbe10>"
      ]
     },
     "execution_count": 4,
     "metadata": {},
     "output_type": "execute_result"
    }
   ],
   "source": [
    "cave.cave_ablation()"
   ]
  },
  {
   "cell_type": "code",
   "execution_count": 5,
   "metadata": {},
   "outputs": [
    {
     "name": "stdout",
     "output_type": "stream",
     "text": [
      "[<cave.reader.configurator_run.ConfiguratorRun object at 0x7f4fca803c50>]\n",
      "odict_values(['budget 0'])\n",
      "budget 0\n",
      "<cave.reader.configurator_run.ConfiguratorRun object at 0x7f4fca803c50>\n",
      "cave-output-branin/analysis_data/-6381047915538864445\n"
     ]
    },
    {
     "data": {
      "text/plain": [
       "<cave.analyzer.parameter_importance.fanova.Fanova at 0x7f4fc85611d0>"
      ]
     },
     "execution_count": 5,
     "metadata": {},
     "output_type": "execute_result"
    }
   ],
   "source": [
    "cave.cave_fanova()"
   ]
  },
  {
   "cell_type": "code",
   "execution_count": 6,
   "metadata": {},
   "outputs": [
    {
     "name": "stdout",
     "output_type": "stream",
     "text": [
      "[<cave.reader.configurator_run.ConfiguratorRun object at 0x7f4fca803c50>]\n",
      "odict_values(['budget 0'])\n",
      "budget 0\n",
      "<cave.reader.configurator_run.ConfiguratorRun object at 0x7f4fca803c50>\n",
      "cave-output-branin/analysis_data/-6381047915538864445\n"
     ]
    },
    {
     "data": {
      "text/plain": [
       "<cave.analyzer.parameter_importance.local_parameter_importance.LocalParameterImportance at 0x7f5001ad0290>"
      ]
     },
     "execution_count": 6,
     "metadata": {},
     "output_type": "execute_result"
    }
   ],
   "source": [
    "cave.local_parameter_importance()"
   ]
  },
  {
   "cell_type": "code",
   "execution_count": 9,
   "metadata": {},
   "outputs": [],
   "source": [
    "# cave.pimp_comparison_table()"
   ]
  }
 ],
 "metadata": {
  "interpreter": {
   "hash": "f41a34bc23193451a6caf07ddf794ceac3c1300afae28ff961195e6b5358c7d5"
  },
  "kernelspec": {
   "display_name": "Python 3.7.11 64-bit ('cave': conda)",
   "name": "python3"
  },
  "language_info": {
   "codemirror_mode": {
    "name": "ipython",
    "version": 3
   },
   "file_extension": ".py",
   "mimetype": "text/x-python",
   "name": "python",
   "nbconvert_exporter": "python",
   "pygments_lexer": "ipython3",
   "version": "3.7.11"
  }
 },
 "nbformat": 4,
 "nbformat_minor": 4
}

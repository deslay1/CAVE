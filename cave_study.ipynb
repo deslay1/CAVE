{
 "cells": [
  {
   "cell_type": "code",
   "execution_count": 19,
   "metadata": {},
   "outputs": [
    {
     "name": "stdout",
     "output_type": "stream",
     "text": [
      "Python 3.9.7\r\n"
     ]
    }
   ],
   "source": [
    "!python --version"
   ]
  },
  {
   "cell_type": "code",
   "execution_count": 20,
   "metadata": {},
   "outputs": [
    {
     "name": "stdout",
     "output_type": "stream",
     "text": [
      "runs-container dir: cave-output-rocksdb\n",
      "default : Configuration:\n",
      "  block_size, Value: '4096'\n",
      "  cache_index_and_filter_blocks, Value: 'False'\n",
      "  compaction_readahead_size, Value: '0'\n",
      "  compression_type, Value: 'snappy'\n",
      "  level0_file_num_compaction_trigger, Value: '4'\n",
      "  level0_slowdown_writes_trigger, Value: '20'\n",
      "  level0_stop_writes_trigger, Value: '36'\n",
      "  max_background_compactions, Value: '-1'\n",
      "  max_background_flushes, Value: -1\n",
      "  max_bytes_for_level_multiplier, Value: 10\n",
      "  max_write_buffer_number, Value: '2'\n",
      "  min_write_buffer_number_to_merge, Value: '1'\n",
      "  write_buffer_size, Value: '67108864'\n",
      "\n",
      "incumbent: Configuration:\n",
      "  block_size, Value: '8'\n",
      "  cache_index_and_filter_blocks, Value: 'False'\n",
      "  compaction_readahead_size, Value: '240000'\n",
      "  compression_type, Value: 'zstd'\n",
      "  level0_file_num_compaction_trigger, Value: '256'\n",
      "  level0_slowdown_writes_trigger, Value: '2'\n",
      "  level0_stop_writes_trigger, Value: '8'\n",
      "  max_background_compactions, Value: '256'\n",
      "  max_background_flushes, Value: 3\n",
      "  max_bytes_for_level_multiplier, Value: 3\n",
      "  max_write_buffer_number, Value: '128'\n",
      "  min_write_buffer_number_to_merge, Value: '2'\n",
      "  write_buffer_size, Value: '134217728'\n",
      "\n",
      "feature_names : None\n",
      "combined runhistory : <smac.runhistory.runhistory.RunHistory object at 0x7f8efcfd94f0>\n",
      "combined runhistory : <smac.runhistory.runhistory.RunHistory object at 0x7f8efcfd94f0>\n",
      "EPM runhistory : <smac.runhistory.runhistory.RunHistory object at 0x7f8efcfd94f0>\n",
      "\n",
      "RANDOM FOREST\n",
      "\n",
      "\n",
      "VALIDATION ON INSTANCES STARTED, do we have any instances?\n",
      "instances test: [None]\n",
      "instances train: [None]\n",
      "\n"
     ]
    }
   ],
   "source": [
    "from cave.cavefacade import CAVE\n",
    "\n",
    "# cave = CAVE(folders=[\"./rocksdb_results/full_space_rw10\", \"./rocksdb_results/full_space_rw50\", \"./rocksdb_results/full_space_rw90\"],\n",
    "#             output_dir=\"cave-output-rocksdb\",\n",
    "#             ta_exec_dir=[\"./rocksdb_results\"],\n",
    "#             show_jupyter=False,\n",
    "#             verbose_level=\"OFF\"\n",
    "#            )\n",
    "\n",
    "# RocksDB\n",
    "cave = CAVE(folders=[\"./rocksdb_results/30D_rw10\"],\n",
    "            output_dir=\"cave-output-rocksdb\",\n",
    "            ta_exec_dir=[\"./rocksdb_results\"],\n",
    "            show_jupyter=False,\n",
    "            verbose_level=\"OFF\"\n",
    "           )\n",
    "\n",
    "# Branin\n",
    "# cave = CAVE(folders=[\"./branin_results/branin\"],\n",
    "#             output_dir=\"cave-output-branin\",\n",
    "#             ta_exec_dir=[\"./branin_results\"],\n",
    "#             show_jupyter=False,\n",
    "#             verbose_level=\"OFF\"\n",
    "#            )\n",
    "\n",
    "# Rosenbrock\n",
    "# cave = CAVE(folders=[\"./rosenbrock_results/rosenbrock\"],\n",
    "#             output_dir=\"cave-output-rosenbrock\",\n",
    "#             ta_exec_dir=[\"./rosenbrock_results\"],\n",
    "#             show_jupyter=False,\n",
    "#             verbose_level=\"OFF\"\n",
    "#            )"
   ]
  },
  {
   "cell_type": "code",
   "execution_count": 21,
   "metadata": {},
   "outputs": [
    {
     "name": "stdout",
     "output_type": "stream",
     "text": [
      "[<cave.reader.configurator_run.ConfiguratorRun object at 0x7f8efce939a0>]\n",
      "default : Configuration:\n",
      "  block_size, Value: '4096'\n",
      "  cache_index_and_filter_blocks, Value: 'False'\n",
      "  compaction_readahead_size, Value: '0'\n",
      "  compression_type, Value: 'snappy'\n",
      "  level0_file_num_compaction_trigger, Value: '4'\n",
      "  level0_slowdown_writes_trigger, Value: '20'\n",
      "  level0_stop_writes_trigger, Value: '36'\n",
      "  max_background_compactions, Value: '-1'\n",
      "  max_background_flushes, Value: -1\n",
      "  max_bytes_for_level_multiplier, Value: 10\n",
      "  max_write_buffer_number, Value: '2'\n",
      "  min_write_buffer_number_to_merge, Value: '1'\n",
      "  write_buffer_size, Value: '67108864'\n",
      "\n",
      "incumbent: Configuration:\n",
      "  block_size, Value: '8'\n",
      "  cache_index_and_filter_blocks, Value: 'False'\n",
      "  compaction_readahead_size, Value: '240000'\n",
      "  compression_type, Value: 'zstd'\n",
      "  level0_file_num_compaction_trigger, Value: '256'\n",
      "  level0_slowdown_writes_trigger, Value: '2'\n",
      "  level0_stop_writes_trigger, Value: '8'\n",
      "  max_background_compactions, Value: '256'\n",
      "  max_background_flushes, Value: 3\n",
      "  max_bytes_for_level_multiplier, Value: 3\n",
      "  max_write_buffer_number, Value: '128'\n",
      "  min_write_buffer_number_to_merge, Value: '2'\n",
      "  write_buffer_size, Value: '134217728'\n",
      "\n",
      "feature_names : None\n",
      "combined runhistory : <smac.runhistory.runhistory.RunHistory object at 0x7f8efce2a0d0>\n",
      "combined runhistory : <smac.runhistory.runhistory.RunHistory object at 0x7f8efce2a0d0>\n",
      "EPM runhistory : <smac.runhistory.runhistory.RunHistory object at 0x7f8efce2a0d0>\n",
      "\n",
      "RANDOM FOREST\n",
      "\n",
      "\n",
      "VALIDATION ON INSTANCES STARTED, do we have any instances?\n",
      "instances test: [None]\n",
      "instances train: [None]\n",
      "\n"
     ]
    },
    {
     "data": {
      "text/plain": [
       "<cave.analyzer.performance.compare_default_incumbent.CompareDefaultIncumbent at 0x7f8efcc756a0>"
      ]
     },
     "execution_count": 21,
     "metadata": {},
     "output_type": "execute_result"
    }
   ],
   "source": [
    "cave.compare_default_incumbent()"
   ]
  },
  {
   "cell_type": "code",
   "execution_count": 22,
   "metadata": {},
   "outputs": [],
   "source": [
    "cave.feature_importance()"
   ]
  },
  {
   "cell_type": "code",
   "execution_count": 23,
   "metadata": {},
   "outputs": [
    {
     "name": "stdout",
     "output_type": "stream",
     "text": [
      "[<cave.reader.configurator_run.ConfiguratorRun object at 0x7f8efce939a0>]\n",
      "base_paramter_importance line 26: keepFolders=True\n",
      "Output directory: cave-output-rocksdb/analysis_data/-1874323486958972849\n"
     ]
    },
    {
     "data": {
      "text/plain": [
       "<cave.analyzer.parameter_importance.forward_selection.ForwardSelection at 0x7f8efcc75340>"
      ]
     },
     "execution_count": 23,
     "metadata": {},
     "output_type": "execute_result"
    }
   ],
   "source": [
    "cave.pimp_forward_selection()"
   ]
  },
  {
   "cell_type": "code",
   "execution_count": 24,
   "metadata": {},
   "outputs": [
    {
     "name": "stdout",
     "output_type": "stream",
     "text": [
      "[<cave.reader.configurator_run.ConfiguratorRun object at 0x7f8efce939a0>]\n",
      "base_paramter_importance line 26: keepFolders=True\n",
      "Output directory: cave-output-rocksdb/analysis_data/-1874323486958972849\n"
     ]
    },
    {
     "data": {
      "text/plain": [
       "<cave.analyzer.parameter_importance.ablation.Ablation at 0x7f8efc9f4f40>"
      ]
     },
     "execution_count": 24,
     "metadata": {},
     "output_type": "execute_result"
    }
   ],
   "source": [
    "cave.cave_ablation()"
   ]
  },
  {
   "cell_type": "code",
   "execution_count": 25,
   "metadata": {},
   "outputs": [
    {
     "name": "stdout",
     "output_type": "stream",
     "text": [
      "[<cave.reader.configurator_run.ConfiguratorRun object at 0x7f8efce939a0>]\n",
      "base_paramter_importance line 26: keepFolders=True\n",
      "Output directory: cave-output-rocksdb/analysis_data/-1874323486958972849\n"
     ]
    },
    {
     "name": "stderr",
     "output_type": "stream",
     "text": [
      "/home/osama/anaconda3/envs/cave/lib/python3.9/site-packages/fanova/visualizer.py:123: VisibleDeprecationWarning: Creating an ndarray from ragged nested sequences (which is a list-or-tuple of lists-or-tuples-or ndarrays with different lengths or shapes) is deprecated. If you meant to do this, you must specify 'dtype=object' when creating the ndarray.\n",
      "  grid_fanova = np.array(grid_fanova)\n",
      "/home/osama/anaconda3/envs/cave/lib/python3.9/site-packages/fanova/visualizer.py:123: VisibleDeprecationWarning: Creating an ndarray from ragged nested sequences (which is a list-or-tuple of lists-or-tuples-or ndarrays with different lengths or shapes) is deprecated. If you meant to do this, you must specify 'dtype=object' when creating the ndarray.\n",
      "  grid_fanova = np.array(grid_fanova)\n"
     ]
    },
    {
     "data": {
      "text/plain": [
       "<cave.analyzer.parameter_importance.fanova.Fanova at 0x7f8efce9f8e0>"
      ]
     },
     "execution_count": 25,
     "metadata": {},
     "output_type": "execute_result"
    }
   ],
   "source": [
    "cave.cave_fanova()"
   ]
  },
  {
   "cell_type": "code",
   "execution_count": 26,
   "metadata": {},
   "outputs": [
    {
     "name": "stdout",
     "output_type": "stream",
     "text": [
      "[<cave.reader.configurator_run.ConfiguratorRun object at 0x7f8efce939a0>]\n",
      "base_paramter_importance line 26: keepFolders=True\n",
      "Output directory: cave-output-rocksdb/analysis_data/-1874323486958972849\n"
     ]
    },
    {
     "name": "stderr",
     "output_type": "stream",
     "text": [
      "/home/osama/anaconda3/envs/cave/lib/python3.9/site-packages/pimp/evaluator/local_parameter_importance.py:402: UserWarning: Attempted to set non-positive top ylim on a log-scaled axis.\n",
      "Invalid limit will be ignored.\n",
      "  ax1.set_ylim([min_y * 0.95, max_y])\n",
      "/home/osama/anaconda3/envs/cave/lib/python3.9/site-packages/pimp/evaluator/local_parameter_importance.py:402: UserWarning: Attempted to set non-positive top ylim on a log-scaled axis.\n",
      "Invalid limit will be ignored.\n",
      "  ax1.set_ylim([min_y * 0.95, max_y])\n",
      "/home/osama/anaconda3/envs/cave/lib/python3.9/site-packages/pimp/evaluator/local_parameter_importance.py:402: UserWarning: Attempted to set non-positive top ylim on a log-scaled axis.\n",
      "Invalid limit will be ignored.\n",
      "  ax1.set_ylim([min_y * 0.95, max_y])\n",
      "/home/osama/anaconda3/envs/cave/lib/python3.9/site-packages/pimp/evaluator/local_parameter_importance.py:402: UserWarning: Attempted to set non-positive top ylim on a log-scaled axis.\n",
      "Invalid limit will be ignored.\n",
      "  ax1.set_ylim([min_y * 0.95, max_y])\n",
      "/home/osama/anaconda3/envs/cave/lib/python3.9/site-packages/pimp/evaluator/local_parameter_importance.py:402: UserWarning: Attempted to set non-positive top ylim on a log-scaled axis.\n",
      "Invalid limit will be ignored.\n",
      "  ax1.set_ylim([min_y * 0.95, max_y])\n",
      "/home/osama/anaconda3/envs/cave/lib/python3.9/site-packages/pimp/evaluator/local_parameter_importance.py:402: UserWarning: Attempted to set non-positive top ylim on a log-scaled axis.\n",
      "Invalid limit will be ignored.\n",
      "  ax1.set_ylim([min_y * 0.95, max_y])\n",
      "/home/osama/anaconda3/envs/cave/lib/python3.9/site-packages/pimp/evaluator/local_parameter_importance.py:402: UserWarning: Attempted to set non-positive top ylim on a log-scaled axis.\n",
      "Invalid limit will be ignored.\n",
      "  ax1.set_ylim([min_y * 0.95, max_y])\n",
      "/home/osama/anaconda3/envs/cave/lib/python3.9/site-packages/pimp/evaluator/local_parameter_importance.py:402: UserWarning: Attempted to set non-positive top ylim on a log-scaled axis.\n",
      "Invalid limit will be ignored.\n",
      "  ax1.set_ylim([min_y * 0.95, max_y])\n",
      "/home/osama/anaconda3/envs/cave/lib/python3.9/site-packages/pimp/evaluator/local_parameter_importance.py:402: UserWarning: Attempted to set non-positive top ylim on a log-scaled axis.\n",
      "Invalid limit will be ignored.\n",
      "  ax1.set_ylim([min_y * 0.95, max_y])\n",
      "/home/osama/anaconda3/envs/cave/lib/python3.9/site-packages/pimp/evaluator/local_parameter_importance.py:402: UserWarning: Attempted to set non-positive top ylim on a log-scaled axis.\n",
      "Invalid limit will be ignored.\n",
      "  ax1.set_ylim([min_y * 0.95, max_y])\n",
      "/home/osama/anaconda3/envs/cave/lib/python3.9/site-packages/pimp/evaluator/local_parameter_importance.py:402: UserWarning: Attempted to set non-positive top ylim on a log-scaled axis.\n",
      "Invalid limit will be ignored.\n",
      "  ax1.set_ylim([min_y * 0.95, max_y])\n"
     ]
    },
    {
     "data": {
      "text/plain": [
       "<cave.analyzer.parameter_importance.local_parameter_importance.LocalParameterImportance at 0x7f8efcdf4d60>"
      ]
     },
     "execution_count": 26,
     "metadata": {},
     "output_type": "execute_result"
    }
   ],
   "source": [
    "cave.local_parameter_importance()"
   ]
  },
  {
   "cell_type": "code",
   "execution_count": 27,
   "metadata": {},
   "outputs": [
    {
     "data": {
      "text/plain": [
       "<cave.analyzer.parameter_importance.pimp_comparison_table.PimpComparisonTable at 0x7f8efcdf4ca0>"
      ]
     },
     "execution_count": 27,
     "metadata": {},
     "output_type": "execute_result"
    }
   ],
   "source": [
    "cave.pimp_comparison_table()"
   ]
  }
 ],
 "metadata": {
  "interpreter": {
   "hash": "f41a34bc23193451a6caf07ddf794ceac3c1300afae28ff961195e6b5358c7d5"
  },
  "kernelspec": {
   "display_name": "Python 3 (ipykernel)",
   "language": "python",
   "name": "python3"
  },
  "language_info": {
   "codemirror_mode": {
    "name": "ipython",
    "version": 3
   },
   "file_extension": ".py",
   "mimetype": "text/x-python",
   "name": "python",
   "nbconvert_exporter": "python",
   "pygments_lexer": "ipython3",
   "version": "3.9.7"
  }
 },
 "nbformat": 4,
 "nbformat_minor": 4
}
